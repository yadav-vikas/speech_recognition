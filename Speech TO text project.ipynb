{
 "cells": [
  {
   "cell_type": "code",
   "execution_count": null,
   "metadata": {},
   "outputs": [],
   "source": [
    "import speech_recognition as sr\n",
    "import os\n",
    "from pydub import AudioSegment\n",
    "from pydub.silence import split_on_silence"
   ]
  },
  {
   "cell_type": "markdown",
   "metadata": {},
   "source": [
    "silence_based_conversion is a function that splits audio file in chunks and apply the speech_recognition"
   ]
  },
  {
   "cell_type": "markdown",
   "metadata": {},
   "source": [
    "1: we open the file from the path-\"?\" as wav file\n",
    "\n",
    "2:open a file where we will concatenate and store the recognized text as \"recognized.txt\" from the os\n",
    "\n",
    "3:now we split the audio chunks with 0.5 seconds of silence or get more chunks (in the wave file the audio must have 0.5 of silence to divide into chunks for processing so we added min_silence length as 500 which is 0.5seconds\n",
    "\n",
    "4:add if even silent is quiter than -16dBFS then we have to adjust that too"
   ]
  },
  {
   "cell_type": "code",
   "execution_count": null,
   "metadata": {},
   "outputs": [],
   "source": [
    "def silence_based_conversion(path):\n",
    "    song=AudioSegment.from_wav(path)\n",
    "    fh=open(\"recognized.txt\",\"w+\")\n",
    "    chunks=split_on_silence(song,min_silence_len=500,silence_thresh=-16)\n",
    "    try:\n",
    "        os.mkdir('audio_chunks')\n",
    "    except(FileExistsError):\n",
    "        pass\n",
    "    os.chdir('audio_chunks')\n",
    "    i=0\n",
    "# now we process each chunk of audio from chunks variable\n",
    "\n",
    "    for chunk in chunks:\n",
    "        #creating 0.5 seconds of silence chunk\n",
    "        chunk_silent=AudioSegmentl.silent(duration=10)\n",
    "        \n",
    "        #now we want our audio to be audible so we add 0.5 of silence in the beginiing and at the end\n",
    "        audio_chunk=chunk_silent + chunk + chunk_silent\n",
    "        \n",
    "        # export audio chunk and save it in the current directory\n",
    "        print(\"Saving chunk{0}.wav\".format(i),bitrate='192k',format='wav')\n",
    "        \n",
    "        filename='chunk'+str(i)+'.wav'\n",
    "        #filename is name of the newchunk created\n",
    "        \n",
    "        print(\"processing chunk\"+str(i))\n",
    "        file=filename\n",
    "        \n",
    "        #now we add recognizer class from speech_Recognition\n",
    "        r=sr.Recognizer()\n",
    "        \n",
    "        #recognize the chunk\n",
    "        with sr.AudioFile(file) as source:\n",
    "            r.adjust_for_ambient_noise(source)\n",
    "            audio_listened = r.listen(source)\n",
    "        \n",
    "        try:\n",
    "            #coverting this into text\n",
    "            rec=r.recognize_google(audio_listened)\n",
    "            #then write into the file\n",
    "            fh.write(rec+\". \")\n",
    "        #errors\n",
    "        except sr.UnknownValueError:\n",
    "            print(\"could not understand audio file correclty\")\n",
    "        except sr.RequestError as e:\n",
    "            print(\"could not request results Plz check your connection\")\n",
    "        i+=1\n",
    "    os.chdir(\"..\")"
   ]
  },
  {
   "cell_type": "code",
   "execution_count": null,
   "metadata": {},
   "outputs": [],
   "source": [
    "if __name__ == '__main__': \n",
    "    print('Enter the audio file path') \n",
    "    path = input() \n",
    "    silence_based_conversion(path) \n",
    "        \n",
    "        \n",
    "    \n"
   ]
  }
 ],
 "metadata": {
  "kernelspec": {
   "display_name": "Python 3",
   "language": "python",
   "name": "python3"
  },
  "language_info": {
   "codemirror_mode": {
    "name": "ipython",
    "version": 3
   },
   "file_extension": ".py",
   "mimetype": "text/x-python",
   "name": "python",
   "nbconvert_exporter": "python",
   "pygments_lexer": "ipython3",
   "version": "3.7.3"
  }
 },
 "nbformat": 4,
 "nbformat_minor": 2
}
